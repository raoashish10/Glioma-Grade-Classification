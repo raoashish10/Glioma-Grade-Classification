{
 "cells": [
  {
   "attachments": {},
   "cell_type": "markdown",
   "metadata": {},
   "source": [
    "# Glioma Grade Classification\n",
    "### Approach\n",
    "- Data cleaning and transformation\n",
    "- XGBoost model\n",
    "- 10-Fold cross validation while training \n",
    "### Description (from the website):\n",
    "\n",
    "- Dataset link: https://archive-beta.ics.uci.edu/dataset/759/glioma+grading+clinical+and+mutation+features+dataset\n",
    "\n",
    "Gliomas are the most common primary tumors of the brain. They can be graded as LGG (Lower-Grade Glioma) or GBM (Glioblastoma Multiforme) depending on the histological/imaging criteria. Clinical and molecular/mutation factors are also very crucial for the grading process. Molecular tests are expensive to help accurately diagnose glioma patients.  \n",
    "\n",
    "In this dataset, the most frequently mutated 20 genes and 3 clinical features are considered from TCGA-LGG and TCGA-GBM brain glioma projects.\n",
    "\n",
    "The prediction task is to determine whether a patient is LGG or GBM with a given clinical and molecular/mutation features. The main objective is to find the optimal subset of mutation genes and clinical features for the glioma grading process to improve performance and reduce costs.\n",
    "\n",
    "### Reference\n",
    "Tasci,Erdal, Camphausen,Kevin, Krauze,Andra Valentina & Zhuge,Ying. (2022). Glioma Grading Clinical and Mutation Features Dataset. UCI Machine Learning Repository. https://doi.org/10.24432/C5R62J."
   ]
  },
  {
   "attachments": {},
   "cell_type": "markdown",
   "metadata": {},
   "source": [
    "### Importing libraries"
   ]
  },
  {
   "cell_type": "code",
   "execution_count": 87,
   "metadata": {},
   "outputs": [],
   "source": [
    "import pandas as pd\n",
    "import xgboost\n",
    "from sklearn.preprocessing import OneHotEncoder\n",
    "from sklearn.model_selection import KFold\n",
    "from sklearn.metrics import confusion_matrix"
   ]
  },
  {
   "attachments": {},
   "cell_type": "markdown",
   "metadata": {},
   "source": [
    "### Reading data"
   ]
  },
  {
   "cell_type": "code",
   "execution_count": 88,
   "metadata": {},
   "outputs": [
    {
     "data": {
      "text/html": [
       "<div>\n",
       "<style scoped>\n",
       "    .dataframe tbody tr th:only-of-type {\n",
       "        vertical-align: middle;\n",
       "    }\n",
       "\n",
       "    .dataframe tbody tr th {\n",
       "        vertical-align: top;\n",
       "    }\n",
       "\n",
       "    .dataframe thead th {\n",
       "        text-align: right;\n",
       "    }\n",
       "</style>\n",
       "<table border=\"1\" class=\"dataframe\">\n",
       "  <thead>\n",
       "    <tr style=\"text-align: right;\">\n",
       "      <th></th>\n",
       "      <th>Grade</th>\n",
       "      <th>Project</th>\n",
       "      <th>Case_ID</th>\n",
       "      <th>Gender</th>\n",
       "      <th>Age_at_diagnosis</th>\n",
       "      <th>Primary_Diagnosis</th>\n",
       "      <th>Race</th>\n",
       "      <th>IDH1</th>\n",
       "      <th>TP53</th>\n",
       "      <th>ATRX</th>\n",
       "      <th>...</th>\n",
       "      <th>FUBP1</th>\n",
       "      <th>RB1</th>\n",
       "      <th>NOTCH1</th>\n",
       "      <th>BCOR</th>\n",
       "      <th>CSMD3</th>\n",
       "      <th>SMARCA4</th>\n",
       "      <th>GRIN2A</th>\n",
       "      <th>IDH2</th>\n",
       "      <th>FAT4</th>\n",
       "      <th>PDGFRA</th>\n",
       "    </tr>\n",
       "  </thead>\n",
       "  <tbody>\n",
       "    <tr>\n",
       "      <th>0</th>\n",
       "      <td>LGG</td>\n",
       "      <td>TCGA-LGG</td>\n",
       "      <td>TCGA-DU-8164</td>\n",
       "      <td>Male</td>\n",
       "      <td>51 years 108 days</td>\n",
       "      <td>Oligodendroglioma, NOS</td>\n",
       "      <td>white</td>\n",
       "      <td>MUTATED</td>\n",
       "      <td>NOT_MUTATED</td>\n",
       "      <td>NOT_MUTATED</td>\n",
       "      <td>...</td>\n",
       "      <td>MUTATED</td>\n",
       "      <td>NOT_MUTATED</td>\n",
       "      <td>NOT_MUTATED</td>\n",
       "      <td>NOT_MUTATED</td>\n",
       "      <td>NOT_MUTATED</td>\n",
       "      <td>NOT_MUTATED</td>\n",
       "      <td>NOT_MUTATED</td>\n",
       "      <td>NOT_MUTATED</td>\n",
       "      <td>NOT_MUTATED</td>\n",
       "      <td>NOT_MUTATED</td>\n",
       "    </tr>\n",
       "    <tr>\n",
       "      <th>1</th>\n",
       "      <td>LGG</td>\n",
       "      <td>TCGA-LGG</td>\n",
       "      <td>TCGA-QH-A6CY</td>\n",
       "      <td>Male</td>\n",
       "      <td>38 years 261 days</td>\n",
       "      <td>Mixed glioma</td>\n",
       "      <td>white</td>\n",
       "      <td>MUTATED</td>\n",
       "      <td>NOT_MUTATED</td>\n",
       "      <td>NOT_MUTATED</td>\n",
       "      <td>...</td>\n",
       "      <td>NOT_MUTATED</td>\n",
       "      <td>NOT_MUTATED</td>\n",
       "      <td>NOT_MUTATED</td>\n",
       "      <td>NOT_MUTATED</td>\n",
       "      <td>NOT_MUTATED</td>\n",
       "      <td>NOT_MUTATED</td>\n",
       "      <td>NOT_MUTATED</td>\n",
       "      <td>NOT_MUTATED</td>\n",
       "      <td>NOT_MUTATED</td>\n",
       "      <td>NOT_MUTATED</td>\n",
       "    </tr>\n",
       "    <tr>\n",
       "      <th>2</th>\n",
       "      <td>LGG</td>\n",
       "      <td>TCGA-LGG</td>\n",
       "      <td>TCGA-HW-A5KM</td>\n",
       "      <td>Male</td>\n",
       "      <td>35 years 62 days</td>\n",
       "      <td>Astrocytoma, NOS</td>\n",
       "      <td>white</td>\n",
       "      <td>MUTATED</td>\n",
       "      <td>MUTATED</td>\n",
       "      <td>MUTATED</td>\n",
       "      <td>...</td>\n",
       "      <td>NOT_MUTATED</td>\n",
       "      <td>NOT_MUTATED</td>\n",
       "      <td>NOT_MUTATED</td>\n",
       "      <td>NOT_MUTATED</td>\n",
       "      <td>NOT_MUTATED</td>\n",
       "      <td>NOT_MUTATED</td>\n",
       "      <td>NOT_MUTATED</td>\n",
       "      <td>NOT_MUTATED</td>\n",
       "      <td>NOT_MUTATED</td>\n",
       "      <td>NOT_MUTATED</td>\n",
       "    </tr>\n",
       "    <tr>\n",
       "      <th>3</th>\n",
       "      <td>LGG</td>\n",
       "      <td>TCGA-LGG</td>\n",
       "      <td>TCGA-E1-A7YE</td>\n",
       "      <td>Female</td>\n",
       "      <td>32 years 283 days</td>\n",
       "      <td>Astrocytoma, anaplastic</td>\n",
       "      <td>white</td>\n",
       "      <td>MUTATED</td>\n",
       "      <td>MUTATED</td>\n",
       "      <td>MUTATED</td>\n",
       "      <td>...</td>\n",
       "      <td>NOT_MUTATED</td>\n",
       "      <td>NOT_MUTATED</td>\n",
       "      <td>NOT_MUTATED</td>\n",
       "      <td>NOT_MUTATED</td>\n",
       "      <td>NOT_MUTATED</td>\n",
       "      <td>NOT_MUTATED</td>\n",
       "      <td>NOT_MUTATED</td>\n",
       "      <td>NOT_MUTATED</td>\n",
       "      <td>MUTATED</td>\n",
       "      <td>NOT_MUTATED</td>\n",
       "    </tr>\n",
       "    <tr>\n",
       "      <th>4</th>\n",
       "      <td>LGG</td>\n",
       "      <td>TCGA-LGG</td>\n",
       "      <td>TCGA-S9-A6WG</td>\n",
       "      <td>Male</td>\n",
       "      <td>31 years 187 days</td>\n",
       "      <td>Astrocytoma, anaplastic</td>\n",
       "      <td>white</td>\n",
       "      <td>MUTATED</td>\n",
       "      <td>MUTATED</td>\n",
       "      <td>MUTATED</td>\n",
       "      <td>...</td>\n",
       "      <td>NOT_MUTATED</td>\n",
       "      <td>NOT_MUTATED</td>\n",
       "      <td>NOT_MUTATED</td>\n",
       "      <td>NOT_MUTATED</td>\n",
       "      <td>NOT_MUTATED</td>\n",
       "      <td>NOT_MUTATED</td>\n",
       "      <td>NOT_MUTATED</td>\n",
       "      <td>NOT_MUTATED</td>\n",
       "      <td>NOT_MUTATED</td>\n",
       "      <td>NOT_MUTATED</td>\n",
       "    </tr>\n",
       "  </tbody>\n",
       "</table>\n",
       "<p>5 rows × 27 columns</p>\n",
       "</div>"
      ],
      "text/plain": [
       "  Grade   Project       Case_ID  Gender   Age_at_diagnosis   \n",
       "0   LGG  TCGA-LGG  TCGA-DU-8164    Male  51 years 108 days  \\\n",
       "1   LGG  TCGA-LGG  TCGA-QH-A6CY    Male  38 years 261 days   \n",
       "2   LGG  TCGA-LGG  TCGA-HW-A5KM    Male   35 years 62 days   \n",
       "3   LGG  TCGA-LGG  TCGA-E1-A7YE  Female  32 years 283 days   \n",
       "4   LGG  TCGA-LGG  TCGA-S9-A6WG    Male  31 years 187 days   \n",
       "\n",
       "         Primary_Diagnosis   Race     IDH1         TP53         ATRX  ...   \n",
       "0   Oligodendroglioma, NOS  white  MUTATED  NOT_MUTATED  NOT_MUTATED  ...  \\\n",
       "1             Mixed glioma  white  MUTATED  NOT_MUTATED  NOT_MUTATED  ...   \n",
       "2         Astrocytoma, NOS  white  MUTATED      MUTATED      MUTATED  ...   \n",
       "3  Astrocytoma, anaplastic  white  MUTATED      MUTATED      MUTATED  ...   \n",
       "4  Astrocytoma, anaplastic  white  MUTATED      MUTATED      MUTATED  ...   \n",
       "\n",
       "         FUBP1          RB1       NOTCH1         BCOR        CSMD3   \n",
       "0      MUTATED  NOT_MUTATED  NOT_MUTATED  NOT_MUTATED  NOT_MUTATED  \\\n",
       "1  NOT_MUTATED  NOT_MUTATED  NOT_MUTATED  NOT_MUTATED  NOT_MUTATED   \n",
       "2  NOT_MUTATED  NOT_MUTATED  NOT_MUTATED  NOT_MUTATED  NOT_MUTATED   \n",
       "3  NOT_MUTATED  NOT_MUTATED  NOT_MUTATED  NOT_MUTATED  NOT_MUTATED   \n",
       "4  NOT_MUTATED  NOT_MUTATED  NOT_MUTATED  NOT_MUTATED  NOT_MUTATED   \n",
       "\n",
       "       SMARCA4       GRIN2A         IDH2         FAT4       PDGFRA  \n",
       "0  NOT_MUTATED  NOT_MUTATED  NOT_MUTATED  NOT_MUTATED  NOT_MUTATED  \n",
       "1  NOT_MUTATED  NOT_MUTATED  NOT_MUTATED  NOT_MUTATED  NOT_MUTATED  \n",
       "2  NOT_MUTATED  NOT_MUTATED  NOT_MUTATED  NOT_MUTATED  NOT_MUTATED  \n",
       "3  NOT_MUTATED  NOT_MUTATED  NOT_MUTATED      MUTATED  NOT_MUTATED  \n",
       "4  NOT_MUTATED  NOT_MUTATED  NOT_MUTATED  NOT_MUTATED  NOT_MUTATED  \n",
       "\n",
       "[5 rows x 27 columns]"
      ]
     },
     "execution_count": 88,
     "metadata": {},
     "output_type": "execute_result"
    }
   ],
   "source": [
    "grade_data = pd.read_csv('TCGA_GBM_LGG_Mutations_all.csv')\n",
    "grade_data.head()"
   ]
  },
  {
   "attachments": {},
   "cell_type": "markdown",
   "metadata": {},
   "source": [
    "### Cleaning data"
   ]
  },
  {
   "cell_type": "code",
   "execution_count": 89,
   "metadata": {},
   "outputs": [
    {
     "data": {
      "text/plain": [
       "Index(['Grade', 'Project', 'Case_ID', 'Gender', 'Age_at_diagnosis',\n",
       "       'Primary_Diagnosis', 'Race', 'IDH1', 'TP53', 'ATRX', 'PTEN', 'EGFR',\n",
       "       'CIC', 'MUC16', 'PIK3CA', 'NF1', 'PIK3R1', 'FUBP1', 'RB1', 'NOTCH1',\n",
       "       'BCOR', 'CSMD3', 'SMARCA4', 'GRIN2A', 'IDH2', 'FAT4', 'PDGFRA'],\n",
       "      dtype='object')"
      ]
     },
     "execution_count": 89,
     "metadata": {},
     "output_type": "execute_result"
    }
   ],
   "source": [
    "grade_data.columns"
   ]
  },
  {
   "cell_type": "code",
   "execution_count": 90,
   "metadata": {},
   "outputs": [
    {
     "data": {
      "text/plain": [
       "862"
      ]
     },
     "execution_count": 90,
     "metadata": {},
     "output_type": "execute_result"
    }
   ],
   "source": [
    "len(grade_data)"
   ]
  },
  {
   "attachments": {},
   "cell_type": "markdown",
   "metadata": {},
   "source": [
    "Checking imbalance\n",
    "- The percentage of the Grades that are 'LGG' is 499/862 which is 58%.\n",
    "- There is some imbalance but it can be safely ignored as it is not far from 50%. \n"
   ]
  },
  {
   "cell_type": "code",
   "execution_count": 91,
   "metadata": {},
   "outputs": [
    {
     "data": {
      "text/plain": [
       "Grade\n",
       "LGG    499\n",
       "GBM    363\n",
       "Name: count, dtype: int64"
      ]
     },
     "execution_count": 91,
     "metadata": {},
     "output_type": "execute_result"
    }
   ],
   "source": [
    "grade_data['Grade'].value_counts()"
   ]
  },
  {
   "attachments": {},
   "cell_type": "markdown",
   "metadata": {},
   "source": [
    "Checking for columns that can be dropped\n",
    "- Columns which would not contribute to the model being trained can be trained.\n",
    "- These columns are the ones which have a unique value for each row, for example: Unique Identifiers.\n",
    "- Here Case_Id and Project can be dropped as Case_Id has unique values for each row and Project is a field which may not be provided with input."
   ]
  },
  {
   "cell_type": "code",
   "execution_count": 92,
   "metadata": {},
   "outputs": [
    {
     "data": {
      "text/plain": [
       "Project\n",
       "TCGA-LGG    499\n",
       "TCGA-GBM    363\n",
       "Name: count, dtype: int64"
      ]
     },
     "execution_count": 92,
     "metadata": {},
     "output_type": "execute_result"
    }
   ],
   "source": [
    "grade_data['Project'].value_counts()"
   ]
  },
  {
   "cell_type": "code",
   "execution_count": 93,
   "metadata": {},
   "outputs": [
    {
     "data": {
      "text/plain": [
       "862"
      ]
     },
     "execution_count": 93,
     "metadata": {},
     "output_type": "execute_result"
    }
   ],
   "source": [
    "len(grade_data['Case_ID'].unique())"
   ]
  },
  {
   "cell_type": "code",
   "execution_count": 94,
   "metadata": {},
   "outputs": [],
   "source": [
    "grade_data.drop(columns=['Project','Case_ID'], inplace = True)"
   ]
  },
  {
   "cell_type": "code",
   "execution_count": 95,
   "metadata": {},
   "outputs": [
    {
     "data": {
      "text/plain": [
       "Primary_Diagnosis\n",
       "Glioblastoma                     360\n",
       "Astrocytoma, anaplastic          129\n",
       "Mixed glioma                     128\n",
       "Oligodendroglioma, NOS           108\n",
       "Oligodendroglioma, anaplastic     75\n",
       "Astrocytoma, NOS                  58\n",
       "--                                 4\n",
       "Name: count, dtype: int64"
      ]
     },
     "execution_count": 95,
     "metadata": {},
     "output_type": "execute_result"
    }
   ],
   "source": [
    "grade_data['Primary_Diagnosis'].value_counts()"
   ]
  },
  {
   "cell_type": "code",
   "execution_count": 96,
   "metadata": {},
   "outputs": [
    {
     "data": {
      "text/plain": [
       "Gender\n",
       "Male      499\n",
       "Female    359\n",
       "--          4\n",
       "Name: count, dtype: int64"
      ]
     },
     "execution_count": 96,
     "metadata": {},
     "output_type": "execute_result"
    }
   ],
   "source": [
    "grade_data['Gender'].value_counts()"
   ]
  },
  {
   "cell_type": "code",
   "execution_count": 97,
   "metadata": {},
   "outputs": [
    {
     "data": {
      "text/plain": [
       "Race\n",
       "white                               766\n",
       "black or african american            59\n",
       "not reported                         18\n",
       "asian                                14\n",
       "--                                    4\n",
       "american indian or alaska native      1\n",
       "Name: count, dtype: int64"
      ]
     },
     "execution_count": 97,
     "metadata": {},
     "output_type": "execute_result"
    }
   ],
   "source": [
    "grade_data['Race'].value_counts()"
   ]
  },
  {
   "cell_type": "code",
   "execution_count": 98,
   "metadata": {},
   "outputs": [
    {
     "data": {
      "text/plain": [
       "Grade                0\n",
       "Gender               4\n",
       "Age_at_diagnosis     5\n",
       "Primary_Diagnosis    4\n",
       "Race                 4\n",
       "IDH1                 0\n",
       "TP53                 0\n",
       "ATRX                 0\n",
       "PTEN                 0\n",
       "EGFR                 0\n",
       "CIC                  0\n",
       "MUC16                0\n",
       "PIK3CA               0\n",
       "NF1                  0\n",
       "PIK3R1               0\n",
       "FUBP1                0\n",
       "RB1                  0\n",
       "NOTCH1               0\n",
       "BCOR                 0\n",
       "CSMD3                0\n",
       "SMARCA4              0\n",
       "GRIN2A               0\n",
       "IDH2                 0\n",
       "FAT4                 0\n",
       "PDGFRA               0\n",
       "dtype: int64"
      ]
     },
     "execution_count": 98,
     "metadata": {},
     "output_type": "execute_result"
    }
   ],
   "source": [
    "(grade_data == '--').sum()"
   ]
  },
  {
   "cell_type": "code",
   "execution_count": 99,
   "metadata": {},
   "outputs": [
    {
     "data": {
      "text/plain": [
       "Grade                 0\n",
       "Gender                0\n",
       "Age_at_diagnosis      0\n",
       "Primary_Diagnosis     0\n",
       "Race                 18\n",
       "IDH1                  0\n",
       "TP53                  0\n",
       "ATRX                  0\n",
       "PTEN                  0\n",
       "EGFR                  0\n",
       "CIC                   0\n",
       "MUC16                 0\n",
       "PIK3CA                0\n",
       "NF1                   0\n",
       "PIK3R1                0\n",
       "FUBP1                 0\n",
       "RB1                   0\n",
       "NOTCH1                0\n",
       "BCOR                  0\n",
       "CSMD3                 0\n",
       "SMARCA4               0\n",
       "GRIN2A                0\n",
       "IDH2                  0\n",
       "FAT4                  0\n",
       "PDGFRA                0\n",
       "dtype: int64"
      ]
     },
     "execution_count": 99,
     "metadata": {},
     "output_type": "execute_result"
    }
   ],
   "source": [
    "(grade_data == 'not reported').sum()"
   ]
  },
  {
   "attachments": {},
   "cell_type": "markdown",
   "metadata": {},
   "source": [
    "Dropping null values\n",
    "- To find the values that need to be replaced, we need to use the value_counts() on the columns. The reason behind using this function is that sometimes the null values can be in a different form.\n",
    "- In our case, they are found in the form of '--' and 'not reported'\n",
    "- After we checked the count of '--' and 'not reported', we realize that we can safely drop the rows containing these rows since they contribute to less than 3% of the number of rows in the dataset."
   ]
  },
  {
   "cell_type": "code",
   "execution_count": 100,
   "metadata": {},
   "outputs": [
    {
     "data": {
      "text/plain": [
       "Grade                 0\n",
       "Gender                4\n",
       "Age_at_diagnosis      5\n",
       "Primary_Diagnosis     4\n",
       "Race                 22\n",
       "IDH1                  0\n",
       "TP53                  0\n",
       "ATRX                  0\n",
       "PTEN                  0\n",
       "EGFR                  0\n",
       "CIC                   0\n",
       "MUC16                 0\n",
       "PIK3CA                0\n",
       "NF1                   0\n",
       "PIK3R1                0\n",
       "FUBP1                 0\n",
       "RB1                   0\n",
       "NOTCH1                0\n",
       "BCOR                  0\n",
       "CSMD3                 0\n",
       "SMARCA4               0\n",
       "GRIN2A                0\n",
       "IDH2                  0\n",
       "FAT4                  0\n",
       "PDGFRA                0\n",
       "dtype: int64"
      ]
     },
     "execution_count": 100,
     "metadata": {},
     "output_type": "execute_result"
    }
   ],
   "source": [
    "grade_data = grade_data.replace('--',None)\n",
    "grade_data = grade_data.replace('not reported',None)\n",
    "grade_data.isnull().sum()"
   ]
  },
  {
   "cell_type": "code",
   "execution_count": 101,
   "metadata": {},
   "outputs": [
    {
     "data": {
      "text/plain": [
       "Grade                0\n",
       "Gender               0\n",
       "Age_at_diagnosis     0\n",
       "Primary_Diagnosis    0\n",
       "Race                 0\n",
       "IDH1                 0\n",
       "TP53                 0\n",
       "ATRX                 0\n",
       "PTEN                 0\n",
       "EGFR                 0\n",
       "CIC                  0\n",
       "MUC16                0\n",
       "PIK3CA               0\n",
       "NF1                  0\n",
       "PIK3R1               0\n",
       "FUBP1                0\n",
       "RB1                  0\n",
       "NOTCH1               0\n",
       "BCOR                 0\n",
       "CSMD3                0\n",
       "SMARCA4              0\n",
       "GRIN2A               0\n",
       "IDH2                 0\n",
       "FAT4                 0\n",
       "PDGFRA               0\n",
       "dtype: int64"
      ]
     },
     "execution_count": 101,
     "metadata": {},
     "output_type": "execute_result"
    }
   ],
   "source": [
    "no_missing_data = grade_data.dropna()\n",
    "no_missing_data.isnull().sum()"
   ]
  },
  {
   "cell_type": "code",
   "execution_count": 102,
   "metadata": {},
   "outputs": [
    {
     "name": "stdout",
     "output_type": "stream",
     "text": [
      "(862, 25)\n",
      "(839, 25)\n"
     ]
    }
   ],
   "source": [
    "print(grade_data.shape)\n",
    "print(no_missing_data.shape)"
   ]
  },
  {
   "attachments": {},
   "cell_type": "markdown",
   "metadata": {},
   "source": [
    "### Data Transformation"
   ]
  },
  {
   "attachments": {},
   "cell_type": "markdown",
   "metadata": {},
   "source": [
    "- Since the 'age_at_diagnosis' column comprises of string type data, we need to transform this data into numerical form so that it can be fed into the XGBoost model."
   ]
  },
  {
   "cell_type": "code",
   "execution_count": 103,
   "metadata": {},
   "outputs": [
    {
     "data": {
      "text/plain": [
       "0    51 years 108 days\n",
       "1    38 years 261 days\n",
       "2     35 years 62 days\n",
       "3    32 years 283 days\n",
       "4    31 years 187 days\n",
       "Name: Age_at_diagnosis, dtype: object"
      ]
     },
     "execution_count": 103,
     "metadata": {},
     "output_type": "execute_result"
    }
   ],
   "source": [
    "no_missing_data['Age_at_diagnosis'].head()"
   ]
  },
  {
   "attachments": {},
   "cell_type": "markdown",
   "metadata": {},
   "source": [
    "- To convert the data from the above string format to numberical form, we seperate the years and divide the number of days by 365 so that we can get how much of a year the days indicate."
   ]
  },
  {
   "cell_type": "code",
   "execution_count": 104,
   "metadata": {},
   "outputs": [
    {
     "name": "stderr",
     "output_type": "stream",
     "text": [
      "/var/folders/tc/574504yj7ng7sn60ll52p7vh0000gn/T/ipykernel_83462/324434136.py:8: SettingWithCopyWarning: \n",
      "A value is trying to be set on a copy of a slice from a DataFrame.\n",
      "Try using .loc[row_indexer,col_indexer] = value instead\n",
      "\n",
      "See the caveats in the documentation: https://pandas.pydata.org/pandas-docs/stable/user_guide/indexing.html#returning-a-view-versus-a-copy\n",
      "  no_missing_data['Age_at_diagnosis'] = no_missing_data['Age_at_diagnosis'].map(age_transform)\n"
     ]
    }
   ],
   "source": [
    "def age_transform(age):\n",
    "    split_age = age.split(\" \")\n",
    "    days = 0\n",
    "    if len(split_age) > 2:\n",
    "        days = float(split_age[2])/365\n",
    "    years = float(split_age[0])\n",
    "    return round(years + days,2)\n",
    "no_missing_data['Age_at_diagnosis'] = no_missing_data['Age_at_diagnosis'].map(age_transform)"
   ]
  },
  {
   "cell_type": "code",
   "execution_count": 105,
   "metadata": {},
   "outputs": [
    {
     "data": {
      "text/plain": [
       "0    51.30\n",
       "1    38.72\n",
       "2    35.17\n",
       "3    32.78\n",
       "4    31.51\n",
       "Name: Age_at_diagnosis, dtype: float64"
      ]
     },
     "execution_count": 105,
     "metadata": {},
     "output_type": "execute_result"
    }
   ],
   "source": [
    "no_missing_data['Age_at_diagnosis'].head()"
   ]
  },
  {
   "attachments": {},
   "cell_type": "markdown",
   "metadata": {},
   "source": [
    "- We map the 'Grade' column according to the instructions on the website"
   ]
  },
  {
   "cell_type": "code",
   "execution_count": 106,
   "metadata": {},
   "outputs": [
    {
     "name": "stderr",
     "output_type": "stream",
     "text": [
      "/var/folders/tc/574504yj7ng7sn60ll52p7vh0000gn/T/ipykernel_83462/1463972718.py:1: SettingWithCopyWarning: \n",
      "A value is trying to be set on a copy of a slice from a DataFrame.\n",
      "Try using .loc[row_indexer,col_indexer] = value instead\n",
      "\n",
      "See the caveats in the documentation: https://pandas.pydata.org/pandas-docs/stable/user_guide/indexing.html#returning-a-view-versus-a-copy\n",
      "  no_missing_data['Grade'] = no_missing_data['Grade'].map({'GBM':1,'LGG':0})\n"
     ]
    }
   ],
   "source": [
    "no_missing_data['Grade'] = no_missing_data['Grade'].map({'GBM':1,'LGG':0})"
   ]
  },
  {
   "attachments": {},
   "cell_type": "markdown",
   "metadata": {},
   "source": [
    "- Seperating the dependent feature (Y) from the independent features (X)."
   ]
  },
  {
   "cell_type": "code",
   "execution_count": 107,
   "metadata": {},
   "outputs": [],
   "source": [
    "X = no_missing_data.drop('Grade', axis = 1)\n",
    "Y = no_missing_data['Grade']"
   ]
  },
  {
   "attachments": {},
   "cell_type": "markdown",
   "metadata": {},
   "source": [
    "- We convert all categorical data to One-Hot encodings. \n",
    "- This creates a sparse matrix, to view it we need to convert it to a dense form using todense()\n",
    "- XGBoost can handle sparse data well and has the capability of working with large number of features, hence we do not perform any further transformation such as dimensionality reduction."
   ]
  },
  {
   "cell_type": "code",
   "execution_count": 108,
   "metadata": {},
   "outputs": [
    {
     "data": {
      "text/plain": [
       "matrix([[0., 1., 0., ..., 1., 0., 1.],\n",
       "        [0., 1., 0., ..., 1., 0., 1.],\n",
       "        [0., 1., 0., ..., 1., 0., 1.],\n",
       "        ...,\n",
       "        [1., 0., 0., ..., 1., 0., 1.],\n",
       "        [0., 1., 0., ..., 1., 0., 1.],\n",
       "        [0., 1., 0., ..., 1., 0., 1.]])"
      ]
     },
     "execution_count": 108,
     "metadata": {},
     "output_type": "execute_result"
    }
   ],
   "source": [
    "one_hot_encoded_data = OneHotEncoder().fit_transform(X)\n",
    "one_hot_encoded_data.todense()"
   ]
  },
  {
   "attachments": {},
   "cell_type": "markdown",
   "metadata": {},
   "source": [
    "# K-Folds creation\n",
    "- We split the data into 10-Folds of train set and a test set so that the model can be evaluated.\n",
    "- A 10-Folds cross validation method was suggested on the dataset website. "
   ]
  },
  {
   "cell_type": "code",
   "execution_count": 109,
   "metadata": {},
   "outputs": [],
   "source": [
    "kf = KFold(n_splits=10,shuffle=True)"
   ]
  },
  {
   "attachments": {},
   "cell_type": "markdown",
   "metadata": {},
   "source": [
    "# XGBoost Implementation\n",
    "- We fit the train data and use the test data in the eval_set. We use the log-loss objective function to optimize the performance of the model.\n",
    "- We haven't experimented with any hyperparameters in this case since the model fits the evaluation set well.\n",
    "- The confusion matrix for the model using train and test datasets are also calculated to check the performance of the model."
   ]
  },
  {
   "cell_type": "code",
   "execution_count": 110,
   "metadata": {},
   "outputs": [
    {
     "name": "stdout",
     "output_type": "stream",
     "text": [
      "Fold: 1\n",
      "Training confusion matrix: \n",
      " [[434   0]\n",
      " [  0 321]]\n",
      "Testing confusion matrix: \n",
      " [[53  0]\n",
      " [ 0 31]]\n",
      "Fold: 2\n",
      "Training confusion matrix: \n",
      " [[435   0]\n",
      " [  0 320]]\n",
      "Testing confusion matrix: \n",
      " [[52  0]\n",
      " [ 0 32]]\n",
      "Fold: 3\n",
      "Training confusion matrix: \n",
      " [[438   0]\n",
      " [  0 317]]\n",
      "Testing confusion matrix: \n",
      " [[49  0]\n",
      " [ 0 35]]\n",
      "Fold: 4\n",
      "Training confusion matrix: \n",
      " [[436   0]\n",
      " [  0 319]]\n",
      "Testing confusion matrix: \n",
      " [[51  0]\n",
      " [ 0 33]]\n",
      "Fold: 5\n",
      "Training confusion matrix: \n",
      " [[437   0]\n",
      " [  0 318]]\n",
      "Testing confusion matrix: \n",
      " [[50  0]\n",
      " [ 0 34]]\n",
      "Fold: 6\n",
      "Training confusion matrix: \n",
      " [[436   0]\n",
      " [  0 319]]\n",
      "Testing confusion matrix: \n",
      " [[51  0]\n",
      " [ 0 33]]\n",
      "Fold: 7\n",
      "Training confusion matrix: \n",
      " [[444   0]\n",
      " [  0 311]]\n",
      "Testing confusion matrix: \n",
      " [[43  0]\n",
      " [ 0 41]]\n",
      "Fold: 8\n",
      "Training confusion matrix: \n",
      " [[441   0]\n",
      " [  0 314]]\n",
      "Testing confusion matrix: \n",
      " [[46  0]\n",
      " [ 0 38]]\n",
      "Fold: 9\n",
      "Training confusion matrix: \n",
      " [[442   0]\n",
      " [  0 313]]\n",
      "Testing confusion matrix: \n",
      " [[45  0]\n",
      " [ 0 39]]\n",
      "Fold: 10\n",
      "Training confusion matrix: \n",
      " [[440   0]\n",
      " [  0 316]]\n",
      "Testing confusion matrix: \n",
      " [[47  0]\n",
      " [ 0 36]]\n"
     ]
    }
   ],
   "source": [
    "model = xgboost.XGBClassifier(early_stopping_rounds = 20, eval_metric = 'logloss')\n",
    "scores = []\n",
    "for i, (train_index, test_index) in enumerate(kf.split(X)):\n",
    "    print(f\"Fold: {i + 1}\")\n",
    "    X_train = one_hot_encoded_data[train_index]\n",
    "    Y_train = Y.iloc[train_index]\n",
    "    X_test = one_hot_encoded_data[test_index]\n",
    "    Y_test = Y.iloc[test_index]\n",
    "    model.fit(X_train, Y_train, verbose=False, \\\n",
    "              eval_set = [(X_test, Y_test)])\n",
    "    scores.append(model.best_score)\n",
    "    train_preds = model.predict(X_train)\n",
    "    print(\"Training confusion matrix: \\n\",confusion_matrix(train_preds, Y_train))\n",
    "    test_preds = model.predict(X_test)\n",
    "    print(\"Testing confusion matrix: \\n\", confusion_matrix(test_preds, Y_test))"
   ]
  },
  {
   "attachments": {},
   "cell_type": "markdown",
   "metadata": {},
   "source": [
    "Mean log-loss score over all folds"
   ]
  },
  {
   "cell_type": "code",
   "execution_count": 111,
   "metadata": {},
   "outputs": [
    {
     "data": {
      "text/plain": [
       "0.002311360619515255"
      ]
     },
     "execution_count": 111,
     "metadata": {},
     "output_type": "execute_result"
    }
   ],
   "source": [
    "sum(scores)/10"
   ]
  },
  {
   "attachments": {},
   "cell_type": "markdown",
   "metadata": {},
   "source": [
    "### Conclusion"
   ]
  },
  {
   "attachments": {},
   "cell_type": "markdown",
   "metadata": {},
   "source": [
    "- The mean log-loss score over all folds is low, which means that the model is performing well.\n",
    "- It can be observed that the model performs well as can be observed from the confusion matrices for each fold."
   ]
  }
 ],
 "metadata": {
  "kernelspec": {
   "display_name": "Python 3",
   "language": "python",
   "name": "python3"
  },
  "language_info": {
   "codemirror_mode": {
    "name": "ipython",
    "version": 3
   },
   "file_extension": ".py",
   "mimetype": "text/x-python",
   "name": "python",
   "nbconvert_exporter": "python",
   "pygments_lexer": "ipython3",
   "version": "3.10.8"
  },
  "orig_nbformat": 4,
  "vscode": {
   "interpreter": {
    "hash": "aee8b7b246df8f9039afb4144a1f6fd8d2ca17a180786b69acc140d282b71a49"
   }
  }
 },
 "nbformat": 4,
 "nbformat_minor": 2
}
